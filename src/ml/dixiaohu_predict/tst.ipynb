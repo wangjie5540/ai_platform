{
 "cells": [
  {
   "cell_type": "code",
   "execution_count": 1,
   "metadata": {},
   "outputs": [],
   "source": [
    "# encoding: utf-8\n",
    "from digitforce.aip.common.utils import cos_helper\n",
    "import digitforce.aip.common.utils.hdfs_helper as hdfs_helper\n",
    "import datetime\n",
    "\n",
    "import pandas as pd\n",
    "import joblib\n",
    "from digitforce.aip.common.utils.spark_helper import SparkClient\n",
    "import os\n",
    "# os.environ['SPARK_HOME'] = '/opt/spark-2.4.8-bin-hadoop2.7'\n",
    "import findspark\n",
    "findspark.init()\n",
    "\n",
    "DATE_FORMAT = \"%Y%m%d\"\n",
    "now = datetime.datetime.today()\n",
    "today = now.strftime(DATE_FORMAT)\n",
    "predict_day = (now - datetime.timedelta(days=5)\n",
    "               ).strftime(DATE_FORMAT)  # 预测的日期为5天前，防止没有数据\n",
    "hdfs_client = hdfs_helper.HdfsClient()\n"
   ]
  },
  {
   "cell_type": "code",
   "execution_count": 1,
   "metadata": {},
   "outputs": [],
   "source": [
    "train_table_name = \"algorithm.aip_zq_dixiaohu_custom_feature_train_standarddata\"\n",
    "test_table_name=\"algorithm.aip_zq_dixiaohu_custom_feature_test_standarddata\"\n",
    "sample_table_name = \"algorithm.aip_zq_dixiaohu_custom_label_standarddata\"\n",
    "predict_table_name = \"algorithm.aip_zq_dixiaohu_custom_feature_predict_standarddata\"\n",
    "model_hdfs_path = \"/user/ai/aip/zq/dixiaohu/model/latest.model\"\n",
    "output_file_name = \"\""
   ]
  },
  {
   "cell_type": "code",
   "execution_count": 3,
   "metadata": {},
   "outputs": [
    {
     "name": "stderr",
     "output_type": "stream",
     "text": [
      "Warning: Ignoring non-Spark config property: hive.metastore.uris\n",
      "23/02/28 09:25:45 WARN NativeCodeLoader: Unable to load native-hadoop library for your platform... using builtin-java classes where applicable\n",
      "Using Spark's default log4j profile: org/apache/spark/log4j-defaults.properties\n",
      "Setting default log level to \"WARN\".\n",
      "To adjust logging level use sc.setLogLevel(newLevel). For SparkR, use setLogLevel(newLevel).\n",
      "23/02/28 09:25:53 WARN DomainSocketFactory: The short-circuit local reads feature cannot be used because libhadoop cannot be loaded.\n"
     ]
    },
    {
     "name": "stdout",
     "output_type": "stream",
     "text": [
      "&&&&&&&&&&&&&&&&&&&&&&& 0\n",
      "####################### 0\n"
     ]
    },
    {
     "ename": "AssertionError",
     "evalue": "",
     "output_type": "error",
     "traceback": [
      "\u001b[0;31m---------------------------------------------------------------------------\u001b[0m",
      "\u001b[0;31mAssertionError\u001b[0m                            Traceback (most recent call last)",
      "\u001b[0;32m/tmp/ipykernel_330205/2122827416.py\u001b[0m in \u001b[0;36m<module>\u001b[0;34m\u001b[0m\n\u001b[1;32m      3\u001b[0m start_model_train(\n\u001b[1;32m      4\u001b[0m     \u001b[0mtrain_table_name\u001b[0m\u001b[0;34m=\u001b[0m\u001b[0mtrain_table_name\u001b[0m\u001b[0;34m,\u001b[0m\u001b[0;34m\u001b[0m\u001b[0;34m\u001b[0m\u001b[0m\n\u001b[0;32m----> 5\u001b[0;31m     \u001b[0mtest_table_name\u001b[0m\u001b[0;34m=\u001b[0m\u001b[0mtest_table_name\u001b[0m\u001b[0;34m,\u001b[0m\u001b[0;34m\u001b[0m\u001b[0;34m\u001b[0m\u001b[0m\n\u001b[0m\u001b[1;32m      6\u001b[0m )\n",
      "\u001b[0;32m/data/zyf/dixiaohu/tmp/digitforce-ai-platform/src/ml/dixiaohu/model_train.py\u001b[0m in \u001b[0;36mstart_model_train\u001b[0;34m(train_table_name, test_table_name, learning_rate, n_estimators, max_depth, scale_pos_weight, is_automl, model_and_metrics_data_hdfs_path)\u001b[0m\n\u001b[1;32m    154\u001b[0m         \u001b[0mwrite_hdfs_path\u001b[0m\u001b[0;34m(\u001b[0m\u001b[0mlocal_file_path\u001b[0m\u001b[0;34m,\u001b[0m \u001b[0mhdfs_path1\u001b[0m\u001b[0;34m)\u001b[0m\u001b[0;34m\u001b[0m\u001b[0;34m\u001b[0m\u001b[0m\n\u001b[1;32m    155\u001b[0m         \u001b[0mwrite_hdfs_path\u001b[0m\u001b[0;34m(\u001b[0m\u001b[0mlocal_file_path\u001b[0m\u001b[0;34m,\u001b[0m \u001b[0mhdfs_path2\u001b[0m\u001b[0;34m)\u001b[0m\u001b[0;34m\u001b[0m\u001b[0;34m\u001b[0m\u001b[0m\n\u001b[0;32m--> 156\u001b[0;31m         \u001b[0;32massert\u001b[0m \u001b[0mmodel_and_metrics_data_hdfs_path\u001b[0m \u001b[0;32mis\u001b[0m \u001b[0;32mnot\u001b[0m \u001b[0;32mNone\u001b[0m\u001b[0;34m\u001b[0m\u001b[0;34m\u001b[0m\u001b[0m\n\u001b[0m\u001b[1;32m    157\u001b[0m         \u001b[0mmodel_hdfs_path\u001b[0m \u001b[0;34m=\u001b[0m \u001b[0mmodel_and_metrics_data_hdfs_path\u001b[0m \u001b[0;34m+\u001b[0m \u001b[0;34m\"/model.pk\"\u001b[0m\u001b[0;34m\u001b[0m\u001b[0;34m\u001b[0m\u001b[0m\n\u001b[1;32m    158\u001b[0m         \u001b[0mwrite_hdfs_path\u001b[0m\u001b[0;34m(\u001b[0m\u001b[0mlocal_file_path\u001b[0m\u001b[0;34m,\u001b[0m \u001b[0mmodel_hdfs_path\u001b[0m\u001b[0;34m)\u001b[0m\u001b[0;34m\u001b[0m\u001b[0;34m\u001b[0m\u001b[0m\n",
      "\u001b[0;31mAssertionError\u001b[0m: "
     ]
    }
   ],
   "source": [
    "from model_predict import *\n",
    "predict_table_name = \n",
    "start_model_predict(predict_table_name, model_hdfs_path, output_file_name)"
   ]
  }
 ],
 "metadata": {
  "kernelspec": {
   "display_name": "base",
   "language": "python",
   "name": "python3"
  },
  "language_info": {
   "codemirror_mode": {
    "name": "ipython",
    "version": 3
   },
   "file_extension": ".py",
   "mimetype": "text/x-python",
   "name": "python",
   "nbconvert_exporter": "python",
   "pygments_lexer": "ipython3",
   "version": "3.7.13"
  },
  "orig_nbformat": 4,
  "vscode": {
   "interpreter": {
    "hash": "3d597f4c481aa0f25dceb95d2a0067e73c0966dcbd003d741d821a7208527ecf"
   }
  }
 },
 "nbformat": 4,
 "nbformat_minor": 2
}
